{
  "cells": [
    {
      "cell_type": "code",
      "execution_count": 3,
      "metadata": {
        "colab": {
          "base_uri": "https://localhost:8080/"
        },
        "id": "qsog6F8GREi_",
        "outputId": "1e81f9ef-7be9-4177-fad6-62a4a10c7af1"
      },
      "outputs": [
        {
          "output_type": "stream",
          "name": "stdout",
          "text": [
            "Requirement already satisfied: tensorflow in /usr/local/lib/python3.11/dist-packages (2.18.0)\n",
            "Requirement already satisfied: tensorflow-datasets in /usr/local/lib/python3.11/dist-packages (4.9.8)\n",
            "Requirement already satisfied: absl-py>=1.0.0 in /usr/local/lib/python3.11/dist-packages (from tensorflow) (1.4.0)\n",
            "Requirement already satisfied: astunparse>=1.6.0 in /usr/local/lib/python3.11/dist-packages (from tensorflow) (1.6.3)\n",
            "Requirement already satisfied: flatbuffers>=24.3.25 in /usr/local/lib/python3.11/dist-packages (from tensorflow) (25.2.10)\n",
            "Requirement already satisfied: gast!=0.5.0,!=0.5.1,!=0.5.2,>=0.2.1 in /usr/local/lib/python3.11/dist-packages (from tensorflow) (0.6.0)\n",
            "Requirement already satisfied: google-pasta>=0.1.1 in /usr/local/lib/python3.11/dist-packages (from tensorflow) (0.2.0)\n",
            "Requirement already satisfied: libclang>=13.0.0 in /usr/local/lib/python3.11/dist-packages (from tensorflow) (18.1.1)\n",
            "Requirement already satisfied: opt-einsum>=2.3.2 in /usr/local/lib/python3.11/dist-packages (from tensorflow) (3.4.0)\n",
            "Requirement already satisfied: packaging in /usr/local/lib/python3.11/dist-packages (from tensorflow) (24.2)\n",
            "Requirement already satisfied: protobuf!=4.21.0,!=4.21.1,!=4.21.2,!=4.21.3,!=4.21.4,!=4.21.5,<6.0.0dev,>=3.20.3 in /usr/local/lib/python3.11/dist-packages (from tensorflow) (5.29.4)\n",
            "Requirement already satisfied: requests<3,>=2.21.0 in /usr/local/lib/python3.11/dist-packages (from tensorflow) (2.32.3)\n",
            "Requirement already satisfied: setuptools in /usr/local/lib/python3.11/dist-packages (from tensorflow) (75.2.0)\n",
            "Requirement already satisfied: six>=1.12.0 in /usr/local/lib/python3.11/dist-packages (from tensorflow) (1.17.0)\n",
            "Requirement already satisfied: termcolor>=1.1.0 in /usr/local/lib/python3.11/dist-packages (from tensorflow) (3.0.1)\n",
            "Requirement already satisfied: typing-extensions>=3.6.6 in /usr/local/lib/python3.11/dist-packages (from tensorflow) (4.13.1)\n",
            "Requirement already satisfied: wrapt>=1.11.0 in /usr/local/lib/python3.11/dist-packages (from tensorflow) (1.17.2)\n",
            "Requirement already satisfied: grpcio<2.0,>=1.24.3 in /usr/local/lib/python3.11/dist-packages (from tensorflow) (1.71.0)\n",
            "Requirement already satisfied: tensorboard<2.19,>=2.18 in /usr/local/lib/python3.11/dist-packages (from tensorflow) (2.18.0)\n",
            "Requirement already satisfied: keras>=3.5.0 in /usr/local/lib/python3.11/dist-packages (from tensorflow) (3.8.0)\n",
            "Requirement already satisfied: numpy<2.1.0,>=1.26.0 in /usr/local/lib/python3.11/dist-packages (from tensorflow) (2.0.2)\n",
            "Requirement already satisfied: h5py>=3.11.0 in /usr/local/lib/python3.11/dist-packages (from tensorflow) (3.13.0)\n",
            "Requirement already satisfied: ml-dtypes<0.5.0,>=0.4.0 in /usr/local/lib/python3.11/dist-packages (from tensorflow) (0.4.1)\n",
            "Requirement already satisfied: tensorflow-io-gcs-filesystem>=0.23.1 in /usr/local/lib/python3.11/dist-packages (from tensorflow) (0.37.1)\n",
            "Requirement already satisfied: array_record>=0.5.0 in /usr/local/lib/python3.11/dist-packages (from tensorflow-datasets) (0.7.1)\n",
            "Requirement already satisfied: dm-tree in /usr/local/lib/python3.11/dist-packages (from tensorflow-datasets) (0.1.9)\n",
            "Requirement already satisfied: etils>=1.9.1 in /usr/local/lib/python3.11/dist-packages (from etils[edc,enp,epath,epy,etree]>=1.9.1; python_version >= \"3.11\"->tensorflow-datasets) (1.12.2)\n",
            "Requirement already satisfied: immutabledict in /usr/local/lib/python3.11/dist-packages (from tensorflow-datasets) (4.2.1)\n",
            "Requirement already satisfied: promise in /usr/local/lib/python3.11/dist-packages (from tensorflow-datasets) (2.3)\n",
            "Requirement already satisfied: psutil in /usr/local/lib/python3.11/dist-packages (from tensorflow-datasets) (5.9.5)\n",
            "Requirement already satisfied: pyarrow in /usr/local/lib/python3.11/dist-packages (from tensorflow-datasets) (18.1.0)\n",
            "Requirement already satisfied: simple_parsing in /usr/local/lib/python3.11/dist-packages (from tensorflow-datasets) (0.1.7)\n",
            "Requirement already satisfied: tensorflow-metadata in /usr/local/lib/python3.11/dist-packages (from tensorflow-datasets) (1.17.0)\n",
            "Requirement already satisfied: toml in /usr/local/lib/python3.11/dist-packages (from tensorflow-datasets) (0.10.2)\n",
            "Requirement already satisfied: tqdm in /usr/local/lib/python3.11/dist-packages (from tensorflow-datasets) (4.67.1)\n",
            "Requirement already satisfied: wheel<1.0,>=0.23.0 in /usr/local/lib/python3.11/dist-packages (from astunparse>=1.6.0->tensorflow) (0.45.1)\n",
            "Requirement already satisfied: einops in /usr/local/lib/python3.11/dist-packages (from etils[edc,enp,epath,epy,etree]>=1.9.1; python_version >= \"3.11\"->tensorflow-datasets) (0.8.1)\n",
            "Requirement already satisfied: fsspec in /usr/local/lib/python3.11/dist-packages (from etils[edc,enp,epath,epy,etree]>=1.9.1; python_version >= \"3.11\"->tensorflow-datasets) (2025.3.2)\n",
            "Requirement already satisfied: importlib_resources in /usr/local/lib/python3.11/dist-packages (from etils[edc,enp,epath,epy,etree]>=1.9.1; python_version >= \"3.11\"->tensorflow-datasets) (6.5.2)\n",
            "Requirement already satisfied: zipp in /usr/local/lib/python3.11/dist-packages (from etils[edc,enp,epath,epy,etree]>=1.9.1; python_version >= \"3.11\"->tensorflow-datasets) (3.21.0)\n",
            "Requirement already satisfied: rich in /usr/local/lib/python3.11/dist-packages (from keras>=3.5.0->tensorflow) (13.9.4)\n",
            "Requirement already satisfied: namex in /usr/local/lib/python3.11/dist-packages (from keras>=3.5.0->tensorflow) (0.0.8)\n",
            "Requirement already satisfied: optree in /usr/local/lib/python3.11/dist-packages (from keras>=3.5.0->tensorflow) (0.15.0)\n",
            "Requirement already satisfied: charset-normalizer<4,>=2 in /usr/local/lib/python3.11/dist-packages (from requests<3,>=2.21.0->tensorflow) (3.4.1)\n",
            "Requirement already satisfied: idna<4,>=2.5 in /usr/local/lib/python3.11/dist-packages (from requests<3,>=2.21.0->tensorflow) (3.10)\n",
            "Requirement already satisfied: urllib3<3,>=1.21.1 in /usr/local/lib/python3.11/dist-packages (from requests<3,>=2.21.0->tensorflow) (2.3.0)\n",
            "Requirement already satisfied: certifi>=2017.4.17 in /usr/local/lib/python3.11/dist-packages (from requests<3,>=2.21.0->tensorflow) (2025.1.31)\n",
            "Requirement already satisfied: markdown>=2.6.8 in /usr/local/lib/python3.11/dist-packages (from tensorboard<2.19,>=2.18->tensorflow) (3.7)\n",
            "Requirement already satisfied: tensorboard-data-server<0.8.0,>=0.7.0 in /usr/local/lib/python3.11/dist-packages (from tensorboard<2.19,>=2.18->tensorflow) (0.7.2)\n",
            "Requirement already satisfied: werkzeug>=1.0.1 in /usr/local/lib/python3.11/dist-packages (from tensorboard<2.19,>=2.18->tensorflow) (3.1.3)\n",
            "Requirement already satisfied: attrs>=18.2.0 in /usr/local/lib/python3.11/dist-packages (from dm-tree->tensorflow-datasets) (25.3.0)\n",
            "Requirement already satisfied: docstring-parser<1.0,>=0.15 in /usr/local/lib/python3.11/dist-packages (from simple_parsing->tensorflow-datasets) (0.16)\n",
            "Requirement already satisfied: googleapis-common-protos<2,>=1.56.4 in /usr/local/lib/python3.11/dist-packages (from tensorflow-metadata->tensorflow-datasets) (1.69.2)\n",
            "Requirement already satisfied: MarkupSafe>=2.1.1 in /usr/local/lib/python3.11/dist-packages (from werkzeug>=1.0.1->tensorboard<2.19,>=2.18->tensorflow) (3.0.2)\n",
            "Requirement already satisfied: markdown-it-py>=2.2.0 in /usr/local/lib/python3.11/dist-packages (from rich->keras>=3.5.0->tensorflow) (3.0.0)\n",
            "Requirement already satisfied: pygments<3.0.0,>=2.13.0 in /usr/local/lib/python3.11/dist-packages (from rich->keras>=3.5.0->tensorflow) (2.18.0)\n",
            "Requirement already satisfied: mdurl~=0.1 in /usr/local/lib/python3.11/dist-packages (from markdown-it-py>=2.2.0->rich->keras>=3.5.0->tensorflow) (0.1.2)\n",
            "---------------------------------------\n",
            "02:42:AC:1C:00:0C\n",
            "02:42:AC:1C:00:0C\n",
            "Time taken: 0.0002193450927734375 s\n",
            "---------------------------------------\n"
          ]
        }
      ],
      "source": [
        "!pip install tensorflow tensorflow-datasets\n",
        "import time\n",
        "import uuid\n",
        "import os\n",
        "import psutil\n",
        "print(\"---------------------------------------\")\n",
        "# Time taken\n",
        "start_time = time.time()\n",
        "# MAC Address\n",
        "mac = uuid.getnode()\n",
        "mac_address = ':'.join((\"%012X\" % mac)[i:i+2] for i in range(0, 12, 2))\n",
        "print(mac_address)\n",
        "end_time = time.time()\n",
        "time_taken = end_time - start_time\n",
        "# Memory usage\n",
        "process = psutil.Process(os.getpid())\n",
        "memory_usage = process.memory_info().rss / (1024 * 1024)  # in MB\n",
        "# Result\n",
        "print(mac_address)\n",
        "print(f\"Time taken: {time_taken} s\")\n",
        "print(\"---------------------------------------\")"
      ]
    },
    {
      "cell_type": "code",
      "source": [
        "import tensorflow as tf\n",
        "import tensorflow_datasets as tfds\n",
        "\n",
        "# Construct a tf.data.Dataset\n",
        "ds = tfds.load('mnist', split='train', shuffle_files=True)\n",
        "\n",
        "# Build your input pipeline\n",
        "ds = ds.shuffle(1024).batch(32).prefetch(tf.data.AUTOTUNE)\n",
        "for example in ds.take(1):\n",
        "  image, label = example[\"image\"], example[\"label\"]\n",
        "  import time\n",
        "import uuid\n",
        "import os\n",
        "import psutil\n",
        "print(\"---------------------------------------\")\n",
        "# Time taken\n",
        "start_time = time.time()\n",
        "# MAC Address\n",
        "mac = uuid.getnode()\n",
        "mac_address = ':'.join((\"%012X\" % mac)[i:i+2] for i in range(0, 12, 2))\n",
        "print(mac_address)\n",
        "end_time = time.time()\n",
        "time_taken = end_time - start_time\n",
        "# Memory usage\n",
        "process = psutil.Process(os.getpid())\n",
        "memory_usage = process.memory_info().rss / (1024 * 1024)  # in MB\n",
        "# Result\n",
        "print(mac_address)\n",
        "print(f\"Time taken: {time_taken} s\")\n",
        "print(\"---------------------------------------\")"
      ],
      "metadata": {
        "id": "9ktROV5ZUWfX",
        "outputId": "dac8615a-b465-410f-f6fb-dd857c9c68a1",
        "colab": {
          "base_uri": "https://localhost:8080/"
        }
      },
      "execution_count": 4,
      "outputs": [
        {
          "output_type": "stream",
          "name": "stdout",
          "text": [
            "---------------------------------------\n",
            "02:42:AC:1C:00:0C\n",
            "02:42:AC:1C:00:0C\n",
            "Time taken: 0.0004353523254394531 s\n",
            "---------------------------------------\n"
          ]
        }
      ]
    },
    {
      "cell_type": "code",
      "execution_count": 5,
      "metadata": {
        "colab": {
          "base_uri": "https://localhost:8080/"
        },
        "id": "1JKKmUdQS8zq",
        "outputId": "b89232cd-ac4c-48b7-96be-a054021c6b33"
      },
      "outputs": [
        {
          "output_type": "stream",
          "name": "stdout",
          "text": [
            "---------------------------------------\n",
            "02:42:AC:1C:00:0C\n",
            "02:42:AC:1C:00:0C\n",
            "Time taken: 0.00029587745666503906 s\n",
            "---------------------------------------\n"
          ]
        }
      ],
      "source": [
        "import tensorflow_datasets as tfds\n",
        "\n",
        "# Download the IMDb reviews dataset\n",
        "train_data, test_data = tfds.load(\n",
        "    name=\"imdb_reviews\",\n",
        "    split=[\"train\", \"test\"],\n",
        "    batch_size=-1,\n",
        "    as_supervised=True\n",
        ")\n",
        "\n",
        "# Convert the datasets to NumPy arrays\n",
        "train_examples, train_labels = tfds.as_numpy(train_data)\n",
        "test_examples, test_labels = tfds.as_numpy(test_data)\n",
        "import time\n",
        "import uuid\n",
        "import os\n",
        "import psutil\n",
        "print(\"---------------------------------------\")\n",
        "# Time taken\n",
        "start_time = time.time()\n",
        "# MAC Address\n",
        "mac = uuid.getnode()\n",
        "mac_address = ':'.join((\"%012X\" % mac)[i:i+2] for i in range(0, 12, 2))\n",
        "print(mac_address)\n",
        "end_time = time.time()\n",
        "time_taken = end_time - start_time\n",
        "# Memory usage\n",
        "process = psutil.Process(os.getpid())\n",
        "memory_usage = process.memory_info().rss / (1024 * 1024)  # in MB\n",
        "# Result\n",
        "print(mac_address)\n",
        "print(f\"Time taken: {time_taken} s\")\n",
        "print(\"---------------------------------------\")"
      ]
    },
    {
      "cell_type": "code",
      "execution_count": 6,
      "metadata": {
        "colab": {
          "base_uri": "https://localhost:8080/"
        },
        "id": "IbiKu1ziURfg",
        "outputId": "19526407-832d-4c8f-dd64-446f844ee474"
      },
      "outputs": [
        {
          "output_type": "stream",
          "name": "stdout",
          "text": [
            "---------------------------------------\n",
            "02:42:AC:1C:00:0C\n",
            "02:42:AC:1C:00:0C\n",
            "Time taken: 0.00041294097900390625 s\n",
            "---------------------------------------\n"
          ]
        }
      ],
      "source": [
        "import pandas as pd\n",
        "\n",
        "# Combine training and testing data\n",
        "all_examples = list(train_examples) + list(test_examples)\n",
        "all_labels = list(train_labels) + list(test_labels)\n",
        "\n",
        "# Create a DataFrame\n",
        "df = pd.DataFrame({\n",
        "    'review': [text.decode('utf-8') for text in all_examples],\n",
        "    'sentiment': all_labels\n",
        "})\n",
        "\n",
        "# Save to CSV\n",
        "df.to_csv('imdb_reviews.csv', index=False, encoding='utf-8')\n",
        "import time\n",
        "import uuid\n",
        "import os\n",
        "import psutil\n",
        "print(\"---------------------------------------\")\n",
        "# Time taken\n",
        "start_time = time.time()\n",
        "# MAC Address\n",
        "mac = uuid.getnode()\n",
        "mac_address = ':'.join((\"%012X\" % mac)[i:i+2] for i in range(0, 12, 2))\n",
        "print(mac_address)\n",
        "end_time = time.time()\n",
        "time_taken = end_time - start_time\n",
        "# Memory usage\n",
        "process = psutil.Process(os.getpid())\n",
        "memory_usage = process.memory_info().rss / (1024 * 1024)  # in MB\n",
        "# Result\n",
        "print(mac_address)\n",
        "print(f\"Time taken: {time_taken} s\")\n",
        "print(\"---------------------------------------\")"
      ]
    },
    {
      "cell_type": "code",
      "source": [
        "import pandas as pd\n",
        "\n",
        "df = pd.read_csv('imdb_reviews.csv', encoding='utf-8')\n",
        "print(df.head())\n",
        "print(df.info())\n",
        "print(df['sentiment'].value_counts()) # Check the distribution of positive and negative reviews\n",
        "import time\n",
        "import uuid\n",
        "import os\n",
        "import psutil\n",
        "print(\"---------------------------------------\")\n",
        "# Time taken\n",
        "start_time = time.time()\n",
        "# MAC Address\n",
        "mac = uuid.getnode()\n",
        "mac_address = ':'.join((\"%012X\" % mac)[i:i+2] for i in range(0, 12, 2))\n",
        "print(mac_address)\n",
        "end_time = time.time()\n",
        "time_taken = end_time - start_time\n",
        "# Memory usage\n",
        "process = psutil.Process(os.getpid())\n",
        "memory_usage = process.memory_info().rss / (1024 * 1024)  # in MB\n",
        "# Result\n",
        "print(mac_address)\n",
        "print(f\"Time taken: {time_taken} s\")\n",
        "print(\"---------------------------------------\")"
      ],
      "metadata": {
        "id": "UcsgYt78XIv8",
        "outputId": "5e2a2eb6-d627-4a23-9c26-30f32c1353b2",
        "colab": {
          "base_uri": "https://localhost:8080/"
        }
      },
      "execution_count": 7,
      "outputs": [
        {
          "output_type": "stream",
          "name": "stdout",
          "text": [
            "                                              review  sentiment\n",
            "0  This was an absolutely terrible movie. Don't b...          0\n",
            "1  I have been known to fall asleep during films,...          0\n",
            "2  Mann photographs the Alberta Rocky Mountains i...          0\n",
            "3  This is the kind of film for a snowy Sunday af...          1\n",
            "4  As others have mentioned, all the women that g...          1\n",
            "<class 'pandas.core.frame.DataFrame'>\n",
            "RangeIndex: 50000 entries, 0 to 49999\n",
            "Data columns (total 2 columns):\n",
            " #   Column     Non-Null Count  Dtype \n",
            "---  ------     --------------  ----- \n",
            " 0   review     50000 non-null  object\n",
            " 1   sentiment  50000 non-null  int64 \n",
            "dtypes: int64(1), object(1)\n",
            "memory usage: 781.4+ KB\n",
            "None\n",
            "sentiment\n",
            "0    25000\n",
            "1    25000\n",
            "Name: count, dtype: int64\n",
            "---------------------------------------\n",
            "02:42:AC:1C:00:0C\n",
            "02:42:AC:1C:00:0C\n",
            "Time taken: 0.00031566619873046875 s\n",
            "---------------------------------------\n"
          ]
        }
      ]
    },
    {
      "cell_type": "code",
      "source": [
        "df['review_length'] = df['review'].apply(len)\n",
        "print(df['review_length'].describe())\n",
        "import matplotlib.pyplot as plt\n",
        "import seaborn as sns\n",
        "sns.histplot(df['review_length'])\n",
        "plt.title('Distribution of Review Lengths')\n",
        "plt.xlabel('Review Length')\n",
        "plt.ylabel('Frequency')\n",
        "plt.show()\n",
        "import time\n",
        "import uuid\n",
        "import os\n",
        "import psutil\n",
        "print(\"---------------------------------------\")\n",
        "# Time taken\n",
        "start_time = time.time()\n",
        "# MAC Address\n",
        "mac = uuid.getnode()\n",
        "mac_address = ':'.join((\"%012X\" % mac)[i:i+2] for i in range(0, 12, 2))\n",
        "print(mac_address)\n",
        "end_time = time.time()\n",
        "time_taken = end_time - start_time\n",
        "# Memory usage\n",
        "process = psutil.Process(os.getpid())\n",
        "memory_usage = process.memory_info().rss / (1024 * 1024)  # in MB\n",
        "# Result\n",
        "print(mac_address)\n",
        "print(f\"Time taken: {time_taken} s\")\n",
        "print(\"---------------------------------------\")"
      ],
      "metadata": {
        "id": "vJpt3m5CXaoR",
        "outputId": "9be1b5ec-cd82-4c48-dc0b-ef99f1f3d9b4",
        "colab": {
          "base_uri": "https://localhost:8080/",
          "height": 731
        }
      },
      "execution_count": 8,
      "outputs": [
        {
          "output_type": "stream",
          "name": "stdout",
          "text": [
            "count    50000.000000\n",
            "mean      1309.431020\n",
            "std        989.728014\n",
            "min         32.000000\n",
            "25%        699.000000\n",
            "50%        970.000000\n",
            "75%       1590.250000\n",
            "max      13704.000000\n",
            "Name: review_length, dtype: float64\n"
          ]
        },
        {
          "output_type": "display_data",
          "data": {
            "text/plain": [
              "<Figure size 640x480 with 1 Axes>"
            ],
            "image/png": "[encoded data removed]"
          },
          "metadata": {}
        },
        {
          "output_type": "stream",
          "name": "stdout",
          "text": [
            "---------------------------------------\n",
            "02:42:AC:1C:00:0C\n",
            "02:42:AC:1C:00:0C\n",
            "Time taken: 0.00037384033203125 s\n",
            "---------------------------------------\n"
          ]
        }
      ]
    },
    {
      "cell_type": "code",
      "source": [
        "from tensorflow.keras.preprocessing.text import Tokenizer\n",
        "\n",
        "tokenizer = Tokenizer(num_words=10000, oov_token=\"<OOV>\") # Adjust num_words\n",
        "tokenizer.fit_on_texts(df['review'])\n",
        "word_index = tokenizer.word_index\n",
        "print(f\"Vocabulary size: {len(word_index)}\")\n",
        "import time\n",
        "import uuid\n",
        "import os\n",
        "import psutil\n",
        "print(\"---------------------------------------\")\n",
        "# Time taken\n",
        "start_time = time.time()\n",
        "# MAC Address\n",
        "mac = uuid.getnode()\n",
        "mac_address = ':'.join((\"%012X\" % mac)[i:i+2] for i in range(0, 12, 2))\n",
        "print(mac_address)\n",
        "end_time = time.time()\n",
        "time_taken = end_time - start_time\n",
        "# Memory usage\n",
        "process = psutil.Process(os.getpid())\n",
        "memory_usage = process.memory_info().rss / (1024 * 1024)  # in MB\n",
        "# Result\n",
        "print(mac_address)\n",
        "print(f\"Time taken: {time_taken} s\")\n",
        "print(\"---------------------------------------\")"
      ],
      "metadata": {
        "id": "5Up12-jkY6Ms",
        "outputId": "6877d9e3-4857-46d5-bd2d-cfaf743420f5",
        "colab": {
          "base_uri": "https://localhost:8080/"
        }
      },
      "execution_count": 9,
      "outputs": [
        {
          "output_type": "stream",
          "name": "stdout",
          "text": [
            "Vocabulary size: 124253\n",
            "---------------------------------------\n",
            "02:42:AC:1C:00:0C\n",
            "02:42:AC:1C:00:0C\n",
            "Time taken: 0.00026154518127441406 s\n",
            "---------------------------------------\n"
          ]
        }
      ]
    },
    {
      "cell_type": "code",
      "source": [
        "sequences = tokenizer.texts_to_sequences(df['review'])\n",
        "import time\n",
        "import uuid\n",
        "import os\n",
        "import psutil\n",
        "print(\"---------------------------------------\")\n",
        "# Time taken\n",
        "start_time = time.time()\n",
        "# MAC Address\n",
        "mac = uuid.getnode()\n",
        "mac_address = ':'.join((\"%012X\" % mac)[i:i+2] for i in range(0, 12, 2))\n",
        "print(mac_address)\n",
        "end_time = time.time()\n",
        "time_taken = end_time - start_time\n",
        "# Memory usage\n",
        "process = psutil.Process(os.getpid())\n",
        "memory_usage = process.memory_info().rss / (1024 * 1024)  # in MB\n",
        "# Result\n",
        "print(mac_address)\n",
        "print(f\"Time taken: {time_taken} s\")\n",
        "print(\"---------------------------------------\")"
      ],
      "metadata": {
        "id": "wGyDPI55ZPKu",
        "outputId": "6d62cb52-e155-4831-dc0e-365129c033a6",
        "colab": {
          "base_uri": "https://localhost:8080/"
        }
      },
      "execution_count": 10,
      "outputs": [
        {
          "output_type": "stream",
          "name": "stdout",
          "text": [
            "---------------------------------------\n",
            "02:42:AC:1C:00:0C\n",
            "02:42:AC:1C:00:0C\n",
            "Time taken: 0.00025343894958496094 s\n",
            "---------------------------------------\n"
          ]
        }
      ]
    },
    {
      "cell_type": "code",
      "source": [
        "!nvidia-smi\n",
        "import time\n",
        "import uuid\n",
        "import os\n",
        "import psutil\n",
        "print(\"---------------------------------------\")\n",
        "# Time taken\n",
        "start_time = time.time()\n",
        "# MAC Address\n",
        "mac = uuid.getnode()\n",
        "mac_address = ':'.join((\"%012X\" % mac)[i:i+2] for i in range(0, 12, 2))\n",
        "print(mac_address)\n",
        "end_time = time.time()\n",
        "time_taken = end_time - start_time\n",
        "# Memory usage\n",
        "process = psutil.Process(os.getpid())\n",
        "memory_usage = process.memory_info().rss / (1024 * 1024)  # in MB\n",
        "# Result\n",
        "print(mac_address)\n",
        "print(f\"Time taken: {time_taken} s\")\n",
        "print(\"---------------------------------------\")"
      ],
      "metadata": {
        "colab": {
          "base_uri": "https://localhost:8080/"
        },
        "id": "lUh29Ivty-nu",
        "outputId": "5e4c76be-4e4b-48db-e54c-b1d474177a3d"
      },
      "execution_count": 11,
      "outputs": [
        {
          "output_type": "stream",
          "name": "stdout",
          "text": [
            "/bin/bash: line 1: nvidia-smi: command not found\n",
            "---------------------------------------\n",
            "02:42:AC:1C:00:0C\n",
            "02:42:AC:1C:00:0C\n",
            "Time taken: 0.0007722377777099609 s\n",
            "---------------------------------------\n"
          ]
        }
      ]
    },
    {
      "cell_type": "code",
      "source": [
        "from tensorflow.keras.preprocessing.sequence import pad_sequences\n",
        "\n",
        "maxlen = 120 # Choose an appropriate maximum length\n",
        "padded_sequences = pad_sequences(sequences, maxlen=maxlen, padding='post', truncating='post')\n",
        "print(f\"Shape of padded sequences: {padded_sequences.shape}\")\n",
        "import time\n",
        "import uuid\n",
        "import os\n",
        "import psutil\n",
        "print(\"---------------------------------------\")\n",
        "# Time taken\n",
        "start_time = time.time()\n",
        "# MAC Address\n",
        "mac = uuid.getnode()\n",
        "mac_address = ':'.join((\"%012X\" % mac)[i:i+2] for i in range(0, 12, 2))\n",
        "print(mac_address)\n",
        "end_time = time.time()\n",
        "time_taken = end_time - start_time\n",
        "# Memory usage\n",
        "process = psutil.Process(os.getpid())\n",
        "memory_usage = process.memory_info().rss / (1024 * 1024)  # in MB\n",
        "# Result\n",
        "print(mac_address)\n",
        "print(f\"Time taken: {time_taken} s\")\n",
        "print(\"---------------------------------------\")"
      ],
      "metadata": {
        "id": "iCbhxZF6fV1V",
        "outputId": "101e0738-4f55-4f83-f5b1-e3e1d7c92461",
        "colab": {
          "base_uri": "https://localhost:8080/"
        }
      },
      "execution_count": 12,
      "outputs": [
        {
          "output_type": "stream",
          "name": "stdout",
          "text": [
            "Shape of padded sequences: (50000, 120)\n",
            "---------------------------------------\n",
            "02:42:AC:1C:00:0C\n",
            "02:42:AC:1C:00:0C\n",
            "Time taken: 0.0002460479736328125 s\n",
            "---------------------------------------\n"
          ]
        }
      ]
    },
    {
      "cell_type": "code",
      "source": [
        "import numpy as np\n",
        "from tensorflow.keras.preprocessing.sequence import pad_sequences\n",
        "from tensorflow.keras.utils import to_categorical\n",
        "import tensorflow as tf\n",
        "import pickle\n",
        "\n",
        "# --- Hyperparameters ---\n",
        "vocabulary_size = 10000\n",
        "max_review_length = 120\n",
        "language_model_sequence_length = 50\n",
        "embedding_dimension = 64\n",
        "lstm_units = 128\n",
        "epochs = 5\n",
        "batch_size = 128\n",
        "\n",
        "# --- 1. Load and Tokenize ---\n",
        "# Assign your training data to train_sentences\n",
        "train_sentences = df['review'].tolist()  # Assuming df['review'] contains your training data\n",
        "\n",
        "tokenizer = tf.keras.preprocessing.text.Tokenizer(num_words=vocabulary_size, oov_token=\"<OOV>\")\n",
        "tokenizer.fit_on_texts(train_sentences) # Fit on your entire training data\n",
        "\n",
        "padded_sequences = pad_sequences(tokenizer.texts_to_sequences(train_sentences),\n",
        "                                 maxlen=max_review_length,\n",
        "                                 padding='post',\n",
        "                                 truncating='post')\n",
        "print(f\"Shape of padded sequences: {padded_sequences.shape}\")\n",
        "\n",
        "# --- 2. Prepare Training Data Generator ---\n",
        "def data_generator(padded_sequences, tokenizer, seq_length, batch_size):\n",
        "    num_sequences = len(padded_sequences)\n",
        "    while True:\n",
        "        indices = np.random.permutation(num_sequences)\n",
        "        for start in range(0, num_sequences, batch_size):\n",
        "            end = min(start + batch_size, num_sequences)\n",
        "            batch_sequences = padded_sequences[indices[start:end]]\n",
        "\n",
        "            input_batch = []\n",
        "            label_batch = []\n",
        "            for seq in batch_sequences:\n",
        "                for i in range(1, len(seq)):\n",
        "                    n_gram_sequence = seq[:i+1]\n",
        "                    if len(n_gram_sequence) <= seq_length:\n",
        "                        input_batch.append(n_gram_sequence[:-1])\n",
        "                        label_batch.append(n_gram_sequence[-1])\n",
        "\n",
        "            padded_inputs = pad_sequences(input_batch, maxlen=seq_length - 1, padding='pre')\n",
        "            labels = to_categorical(label_batch, num_classes=len(tokenizer.word_index) + 1) # Correct num_classes\n",
        "            yield padded_inputs, labels\n",
        "\n",
        "steps_per_epoch = len(padded_sequences) // batch_size\n",
        "train_generator = data_generator(padded_sequences, tokenizer, language_model_sequence_length, batch_size)\n",
        "\n",
        "# --- 3. Build the Language Model ---\n",
        "model = tf.keras.models.Sequential([\n",
        "    tf.keras.layers.Embedding(vocabulary_size, embedding_dimension, input_length=language_model_sequence_length - 1),\n",
        "    tf.keras.layers.LSTM(lstm_units),\n",
        "    tf.keras.layers.Dense(len(tokenizer.word_index) + 1, activation='softmax') # Correct output size\n",
        "])\n",
        "\n",
        "model.compile(optimizer='adam', loss='categorical_crossentropy', metrics=['accuracy'])\n",
        "model.summary()\n",
        "\n",
        "# --- 4. Train the Language Model ---\n",
        "history = model.fit(\n",
        "    train_generator,\n",
        "    steps_per_epoch=steps_per_epoch,\n",
        "    epochs=epochs,\n",
        "    verbose=1\n",
        ")\n",
        "\n",
        "# --- 5. Save the Trained Model and Tokenizer ---\n",
        "model.save('imdb_language_model_small.h5')\n",
        "with open('tokenizer_small.pkl', 'wb') as handle:\n",
        "    pickle.dump(tokenizer, handle, protocol=pickle.HIGHEST_PROTOCOL)\n",
        "\n",
        "print(\"Smaller language model training complete. Model and tokenizer saved.\")\n",
        "import time\n",
        "import uuid\n",
        "import os\n",
        "import psutil\n",
        "print(\"---------------------------------------\")\n",
        "# Time taken\n",
        "start_time = time.time()\n",
        "# MAC Address\n",
        "mac = uuid.getnode()\n",
        "mac_address = ':'.join((\"%012X\" % mac)[i:i+2] for i in range(0, 12, 2))\n",
        "print(mac_address)\n",
        "end_time = time.time()\n",
        "time_taken = end_time - start_time\n",
        "# Memory usage\n",
        "process = psutil.Process(os.getpid())\n",
        "memory_usage = process.memory_info().rss / (1024 * 1024)  # in MB\n",
        "# Result\n",
        "print(mac_address)\n",
        "print(f\"Time taken: {time_taken} s\")\n",
        "print(\"---------------------------------------\")"
      ],
      "metadata": {
        "id": "3Nqupl1CfcEg",
        "colab": {
          "base_uri": "https://localhost:8080/",
          "height": 298
        },
        "outputId": "574c4861-6940-41a6-ae7f-45ac9c7f3afb"
      },
      "execution_count": null,
      "outputs": [
        {
          "output_type": "stream",
          "name": "stdout",
          "text": [
            "Shape of padded sequences: (50000, 120)\n"
          ]
        },
        {
          "output_type": "stream",
          "name": "stderr",
          "text": [
            "/usr/local/lib/python3.11/dist-packages/keras/src/layers/core/embedding.py:90: UserWarning: Argument `input_length` is deprecated. Just remove it.\n",
            "  warnings.warn(\n"
          ]
        },
        {
          "output_type": "display_data",
          "data": {
            "text/plain": [
              "\u001b[1mModel: \"sequential\"\u001b[0m\n"
            ],
            "text/html": [
              "<pre style=\"white-space:pre;overflow-x:auto;line-height:normal;font-family:Menlo,'DejaVu Sans Mono',consolas,'Courier New',monospace\"><span style=\"font-weight: bold\">Model: \"sequential\"</span>\n",
              "</pre>\n"
            ]
          },
          "metadata": {}
        },
        {
          "output_type": "display_data",
          "data": {
            "text/plain": [
              "┏━━━━━━━━━━━━━━━━━━━━━━━━━━━━━━━━━┳━━━━━━━━━━━━━━━━━━━━━━━━┳━━━━━━━━━━━━━━━┓\n",
              "┃\u001b[1m \u001b[0m\u001b[1mLayer (type)                   \u001b[0m\u001b[1m \u001b[0m┃\u001b[1m \u001b[0m\u001b[1mOutput Shape          \u001b[0m\u001b[1m \u001b[0m┃\u001b[1m \u001b[0m\u001b[1m      Param #\u001b[0m\u001b[1m \u001b[0m┃\n",
              "┡━━━━━━━━━━━━━━━━━━━━━━━━━━━━━━━━━╇━━━━━━━━━━━━━━━━━━━━━━━━╇━━━━━━━━━━━━━━━┩\n",
              "│ embedding (\u001b[38;5;33mEmbedding\u001b[0m)           │ ?                      │   \u001b[38;5;34m0\u001b[0m (unbuilt) │\n",
              "├─────────────────────────────────┼────────────────────────┼───────────────┤\n",
              "│ lstm (\u001b[38;5;33mLSTM\u001b[0m)                     │ ?                      │   \u001b[38;5;34m0\u001b[0m (unbuilt) │\n",
              "├─────────────────────────────────┼────────────────────────┼───────────────┤\n",
              "│ dense (\u001b[38;5;33mDense\u001b[0m)                   │ ?                      │   \u001b[38;5;34m0\u001b[0m (unbuilt) │\n",
              "└─────────────────────────────────┴────────────────────────┴───────────────┘\n"
            ],
            "text/html": [
              "<pre style=\"white-space:pre;overflow-x:auto;line-height:normal;font-family:Menlo,'DejaVu Sans Mono',consolas,'Courier New',monospace\">┏━━━━━━━━━━━━━━━━━━━━━━━━━━━━━━━━━┳━━━━━━━━━━━━━━━━━━━━━━━━┳━━━━━━━━━━━━━━━┓\n",
              "┃<span style=\"font-weight: bold\"> Layer (type)                    </span>┃<span style=\"font-weight: bold\"> Output Shape           </span>┃<span style=\"font-weight: bold\">       Param # </span>┃\n",
              "┡━━━━━━━━━━━━━━━━━━━━━━━━━━━━━━━━━╇━━━━━━━━━━━━━━━━━━━━━━━━╇━━━━━━━━━━━━━━━┩\n",
              "│ embedding (<span style=\"color: #0087ff; text-decoration-color: #0087ff\">Embedding</span>)           │ ?                      │   <span style=\"color: #00af00; text-decoration-color: #00af00\">0</span> (unbuilt) │\n",
              "├─────────────────────────────────┼────────────────────────┼───────────────┤\n",
              "│ lstm (<span style=\"color: #0087ff; text-decoration-color: #0087ff\">LSTM</span>)                     │ ?                      │   <span style=\"color: #00af00; text-decoration-color: #00af00\">0</span> (unbuilt) │\n",
              "├─────────────────────────────────┼────────────────────────┼───────────────┤\n",
              "│ dense (<span style=\"color: #0087ff; text-decoration-color: #0087ff\">Dense</span>)                   │ ?                      │   <span style=\"color: #00af00; text-decoration-color: #00af00\">0</span> (unbuilt) │\n",
              "└─────────────────────────────────┴────────────────────────┴───────────────┘\n",
              "</pre>\n"
            ]
          },
          "metadata": {}
        },
        {
          "output_type": "display_data",
          "data": {
            "text/plain": [
              "\u001b[1m Total params: \u001b[0m\u001b[38;5;34m0\u001b[0m (0.00 B)\n"
            ],
            "text/html": [
              "<pre style=\"white-space:pre;overflow-x:auto;line-height:normal;font-family:Menlo,'DejaVu Sans Mono',consolas,'Courier New',monospace\"><span style=\"font-weight: bold\"> Total params: </span><span style=\"color: #00af00; text-decoration-color: #00af00\">0</span> (0.00 B)\n",
              "</pre>\n"
            ]
          },
          "metadata": {}
        },
        {
          "output_type": "display_data",
          "data": {
            "text/plain": [
              "\u001b[1m Trainable params: \u001b[0m\u001b[38;5;34m0\u001b[0m (0.00 B)\n"
            ],
            "text/html": [
              "<pre style=\"white-space:pre;overflow-x:auto;line-height:normal;font-family:Menlo,'DejaVu Sans Mono',consolas,'Courier New',monospace\"><span style=\"font-weight: bold\"> Trainable params: </span><span style=\"color: #00af00; text-decoration-color: #00af00\">0</span> (0.00 B)\n",
              "</pre>\n"
            ]
          },
          "metadata": {}
        },
        {
          "output_type": "display_data",
          "data": {
            "text/plain": [
              "\u001b[1m Non-trainable params: \u001b[0m\u001b[38;5;34m0\u001b[0m (0.00 B)\n"
            ],
            "text/html": [
              "<pre style=\"white-space:pre;overflow-x:auto;line-height:normal;font-family:Menlo,'DejaVu Sans Mono',consolas,'Courier New',monospace\"><span style=\"font-weight: bold\"> Non-trainable params: </span><span style=\"color: #00af00; text-decoration-color: #00af00\">0</span> (0.00 B)\n",
              "</pre>\n"
            ]
          },
          "metadata": {}
        },
        {
          "output_type": "stream",
          "name": "stdout",
          "text": [
            "Epoch 1/5\n"
          ]
        }
      ]
    },
    {
      "cell_type": "code",
      "source": [
        "# Save the trained model\n",
        "# Assuming you defined and trained your model in a previous cell\n",
        "# like this:\n",
        "\n",
        "import tensorflow as tf\n",
        "from tensorflow.keras.preprocessing.text import Tokenizer # Import Tokenizer\n",
        "\n",
        "# Define a sample Tokenizer (since it's not defined in this cell)\n",
        "tokenizer = Tokenizer(num_words=10000, oov_token=\"<OOV>\")\n",
        "\n",
        "# Define the model (example using a simple sentiment analysis model)\n",
        "model = tf.keras.models.Sequential([\n",
        "    tf.keras.layers.Embedding(10000, 64, input_length=120),  # Adjust input_length if needed\n",
        "    tf.keras.layers.LSTM(128),\n",
        "    tf.keras.layers.Dense(1, activation='sigmoid')\n",
        "])\n",
        "\n",
        "# Compile the model\n",
        "model.compile(optimizer='adam', loss='binary_crossentropy', metrics=['accuracy'])\n",
        "\n",
        "# You would normally train the model here with your data\n",
        "\n",
        "\n",
        "# Now, you can save the model:\n",
        "model.save('imdb_language_model.h5')\n",
        "\n",
        "# Save the tokenizer\n",
        "import pickle\n",
        "with open('tokenizer.pkl', 'wb') as handle:\n",
        "    pickle.dump(tokenizer, handle, protocol=pickle.HIGHEST_PROTOCOL)\n",
        "\n",
        "import time\n",
        "import uuid\n",
        "import os\n",
        "import psutil\n",
        "print(\"---------------------------------------\")\n",
        "# Time taken\n",
        "start_time = time.time()\n",
        "# MAC Address\n",
        "mac = uuid.getnode()\n",
        "mac_address = ':'.join((\"%012X\" % mac)[i:i+2] for i in range(0, 12, 2))\n",
        "print(mac_address)\n",
        "end_time = time.time()\n",
        "time_taken = end_time - start_time\n",
        "# Memory usage\n",
        "process = psutil.Process(os.getpid())\n",
        "memory_usage = process.memory_info().rss / (1024 * 1024)  # in MB\n",
        "# Result\n",
        "print(mac_address)\n",
        "print(f\"Time taken: {time_taken} s\")\n",
        "print(\"---------------------------------------\")"
      ],
      "metadata": {
        "id": "jiGp8S-KjUHx",
        "colab": {
          "base_uri": "https://localhost:8080/"
        },
        "outputId": "31bc0bbb-67e0-4d10-c816-b118f56d5bf6"
      },
      "execution_count": 1,
      "outputs": [
        {
          "output_type": "stream",
          "name": "stderr",
          "text": [
            "/usr/local/lib/python3.11/dist-packages/keras/src/layers/core/embedding.py:90: UserWarning: Argument `input_length` is deprecated. Just remove it.\n",
            "  warnings.warn(\n",
            "WARNING:absl:You are saving your model as an HDF5 file via `model.save()` or `keras.saving.save_model(model)`. This file format is considered legacy. We recommend using instead the native Keras format, e.g. `model.save('my_model.keras')` or `keras.saving.save_model(model, 'my_model.keras')`. \n"
          ]
        },
        {
          "output_type": "stream",
          "name": "stdout",
          "text": [
            "---------------------------------------\n",
            "02:42:AC:1C:00:0C\n",
            "02:42:AC:1C:00:0C\n",
            "Time taken: 0.05509042739868164 s\n",
            "---------------------------------------\n"
          ]
        }
      ]
    },
    {
      "cell_type": "code",
      "source": [
        "!pip install Flask tensorflow numpy pickle-mixin\n",
        "import time\n",
        "import uuid\n",
        "import os\n",
        "import psutil\n",
        "print(\"---------------------------------------\")\n",
        "# Time taken\n",
        "start_time = time.time()\n",
        "# MAC Address\n",
        "mac = uuid.getnode()\n",
        "mac_address = ':'.join((\"%012X\" % mac)[i:i+2] for i in range(0, 12, 2))\n",
        "print(mac_address)\n",
        "end_time = time.time()\n",
        "time_taken = end_time - start_time\n",
        "# Memory usage\n",
        "process = psutil.Process(os.getpid())\n",
        "memory_usage = process.memory_info().rss / (1024 * 1024)  # in MB\n",
        "# Result\n",
        "print(mac_address)\n",
        "print(f\"Time taken: {time_taken} s\")\n",
        "print(\"---------------------------------------\")"
      ],
      "metadata": {
        "id": "vNzlv1NK63HT",
        "colab": {
          "base_uri": "https://localhost:8080/"
        },
        "outputId": "76635da3-9114-46c2-81e3-9e6eee515457"
      },
      "execution_count": 2,
      "outputs": [
        {
          "output_type": "stream",
          "name": "stdout",
          "text": [
            "Requirement already satisfied: Flask in /usr/local/lib/python3.11/dist-packages (3.1.0)\n",
            "Requirement already satisfied: tensorflow in /usr/local/lib/python3.11/dist-packages (2.18.0)\n",
            "Requirement already satisfied: numpy in /usr/local/lib/python3.11/dist-packages (2.0.2)\n",
            "Collecting pickle-mixin\n",
            "  Downloading pickle-mixin-1.0.2.tar.gz (5.1 kB)\n",
            "  Preparing metadata (setup.py) ... \u001b[?25l\u001b[?25hdone\n",
            "Requirement already satisfied: Werkzeug>=3.1 in /usr/local/lib/python3.11/dist-packages (from Flask) (3.1.3)\n",
            "Requirement already satisfied: Jinja2>=3.1.2 in /usr/local/lib/python3.11/dist-packages (from Flask) (3.1.6)\n",
            "Requirement already satisfied: itsdangerous>=2.2 in /usr/local/lib/python3.11/dist-packages (from Flask) (2.2.0)\n",
            "Requirement already satisfied: click>=8.1.3 in /usr/local/lib/python3.11/dist-packages (from Flask) (8.1.8)\n",
            "Requirement already satisfied: blinker>=1.9 in /usr/local/lib/python3.11/dist-packages (from Flask) (1.9.0)\n",
            "Requirement already satisfied: absl-py>=1.0.0 in /usr/local/lib/python3.11/dist-packages (from tensorflow) (1.4.0)\n",
            "Requirement already satisfied: astunparse>=1.6.0 in /usr/local/lib/python3.11/dist-packages (from tensorflow) (1.6.3)\n",
            "Requirement already satisfied: flatbuffers>=24.3.25 in /usr/local/lib/python3.11/dist-packages (from tensorflow) (25.2.10)\n",
            "Requirement already satisfied: gast!=0.5.0,!=0.5.1,!=0.5.2,>=0.2.1 in /usr/local/lib/python3.11/dist-packages (from tensorflow) (0.6.0)\n",
            "Requirement already satisfied: google-pasta>=0.1.1 in /usr/local/lib/python3.11/dist-packages (from tensorflow) (0.2.0)\n",
            "Requirement already satisfied: libclang>=13.0.0 in /usr/local/lib/python3.11/dist-packages (from tensorflow) (18.1.1)\n",
            "Requirement already satisfied: opt-einsum>=2.3.2 in /usr/local/lib/python3.11/dist-packages (from tensorflow) (3.4.0)\n",
            "Requirement already satisfied: packaging in /usr/local/lib/python3.11/dist-packages (from tensorflow) (24.2)\n",
            "Requirement already satisfied: protobuf!=4.21.0,!=4.21.1,!=4.21.2,!=4.21.3,!=4.21.4,!=4.21.5,<6.0.0dev,>=3.20.3 in /usr/local/lib/python3.11/dist-packages (from tensorflow) (5.29.4)\n",
            "Requirement already satisfied: requests<3,>=2.21.0 in /usr/local/lib/python3.11/dist-packages (from tensorflow) (2.32.3)\n",
            "Requirement already satisfied: setuptools in /usr/local/lib/python3.11/dist-packages (from tensorflow) (75.2.0)\n",
            "Requirement already satisfied: six>=1.12.0 in /usr/local/lib/python3.11/dist-packages (from tensorflow) (1.17.0)\n",
            "Requirement already satisfied: termcolor>=1.1.0 in /usr/local/lib/python3.11/dist-packages (from tensorflow) (3.0.1)\n",
            "Requirement already satisfied: typing-extensions>=3.6.6 in /usr/local/lib/python3.11/dist-packages (from tensorflow) (4.13.1)\n",
            "Requirement already satisfied: wrapt>=1.11.0 in /usr/local/lib/python3.11/dist-packages (from tensorflow) (1.17.2)\n",
            "Requirement already satisfied: grpcio<2.0,>=1.24.3 in /usr/local/lib/python3.11/dist-packages (from tensorflow) (1.71.0)\n",
            "Requirement already satisfied: tensorboard<2.19,>=2.18 in /usr/local/lib/python3.11/dist-packages (from tensorflow) (2.18.0)\n",
            "Requirement already satisfied: keras>=3.5.0 in /usr/local/lib/python3.11/dist-packages (from tensorflow) (3.8.0)\n",
            "Requirement already satisfied: h5py>=3.11.0 in /usr/local/lib/python3.11/dist-packages (from tensorflow) (3.13.0)\n",
            "Requirement already satisfied: ml-dtypes<0.5.0,>=0.4.0 in /usr/local/lib/python3.11/dist-packages (from tensorflow) (0.4.1)\n",
            "Requirement already satisfied: tensorflow-io-gcs-filesystem>=0.23.1 in /usr/local/lib/python3.11/dist-packages (from tensorflow) (0.37.1)\n",
            "Requirement already satisfied: wheel<1.0,>=0.23.0 in /usr/local/lib/python3.11/dist-packages (from astunparse>=1.6.0->tensorflow) (0.45.1)\n",
            "Requirement already satisfied: MarkupSafe>=2.0 in /usr/local/lib/python3.11/dist-packages (from Jinja2>=3.1.2->Flask) (3.0.2)\n",
            "Requirement already satisfied: rich in /usr/local/lib/python3.11/dist-packages (from keras>=3.5.0->tensorflow) (13.9.4)\n",
            "Requirement already satisfied: namex in /usr/local/lib/python3.11/dist-packages (from keras>=3.5.0->tensorflow) (0.0.8)\n",
            "Requirement already satisfied: optree in /usr/local/lib/python3.11/dist-packages (from keras>=3.5.0->tensorflow) (0.15.0)\n",
            "Requirement already satisfied: charset-normalizer<4,>=2 in /usr/local/lib/python3.11/dist-packages (from requests<3,>=2.21.0->tensorflow) (3.4.1)\n",
            "Requirement already satisfied: idna<4,>=2.5 in /usr/local/lib/python3.11/dist-packages (from requests<3,>=2.21.0->tensorflow) (3.10)\n",
            "Requirement already satisfied: urllib3<3,>=1.21.1 in /usr/local/lib/python3.11/dist-packages (from requests<3,>=2.21.0->tensorflow) (2.3.0)\n",
            "Requirement already satisfied: certifi>=2017.4.17 in /usr/local/lib/python3.11/dist-packages (from requests<3,>=2.21.0->tensorflow) (2025.1.31)\n",
            "Requirement already satisfied: markdown>=2.6.8 in /usr/local/lib/python3.11/dist-packages (from tensorboard<2.19,>=2.18->tensorflow) (3.7)\n",
            "Requirement already satisfied: tensorboard-data-server<0.8.0,>=0.7.0 in /usr/local/lib/python3.11/dist-packages (from tensorboard<2.19,>=2.18->tensorflow) (0.7.2)\n",
            "Requirement already satisfied: markdown-it-py>=2.2.0 in /usr/local/lib/python3.11/dist-packages (from rich->keras>=3.5.0->tensorflow) (3.0.0)\n",
            "Requirement already satisfied: pygments<3.0.0,>=2.13.0 in /usr/local/lib/python3.11/dist-packages (from rich->keras>=3.5.0->tensorflow) (2.18.0)\n",
            "Requirement already satisfied: mdurl~=0.1 in /usr/local/lib/python3.11/dist-packages (from markdown-it-py>=2.2.0->rich->keras>=3.5.0->tensorflow) (0.1.2)\n",
            "Building wheels for collected packages: pickle-mixin\n",
            "  Building wheel for pickle-mixin (setup.py) ... \u001b[?25l\u001b[?25hdone\n",
            "  Created wheel for pickle-mixin: filename=pickle_mixin-1.0.2-py3-none-any.whl size=5988 sha256=5ad2b1b2b5a9ea775e8b2749f7f8e610d7cb6dbbb260b825b7cd4d225e2908fa\n",
            "  Stored in directory: /root/.cache/pip/wheels/d0/9c/0d/8709be17c02b72bf04ea60d8ec64fc46a1554c0fb81e048dd6\n",
            "Successfully built pickle-mixin\n",
            "Installing collected packages: pickle-mixin\n",
            "Successfully installed pickle-mixin-1.0.2\n",
            "---------------------------------------\n",
            "02:42:AC:1C:00:0C\n",
            "02:42:AC:1C:00:0C\n",
            "Time taken: 0.00019669532775878906 s\n",
            "---------------------------------------\n"
          ]
        }
      ]
    },
    {
      "cell_type": "code",
      "source": [
        "!pip install pyngrok\n",
        "import time\n",
        "import uuid\n",
        "import os\n",
        "import psutil\n",
        "print(\"---------------------------------------\")\n",
        "# Time taken\n",
        "start_time = time.time()\n",
        "# MAC Address\n",
        "mac = uuid.getnode()\n",
        "mac_address = ':'.join((\"%012X\" % mac)[i:i+2] for i in range(0, 12, 2))\n",
        "print(mac_address)\n",
        "end_time = time.time()\n",
        "time_taken = end_time - start_time\n",
        "# Memory usage\n",
        "process = psutil.Process(os.getpid())\n",
        "memory_usage = process.memory_info().rss / (1024 * 1024)  # in MB\n",
        "# Result\n",
        "print(mac_address)\n",
        "print(f\"Time taken: {time_taken} s\")\n",
        "print(\"---------------------------------------\")"
      ],
      "metadata": {
        "id": "j8TVBlAo67ab",
        "colab": {
          "base_uri": "https://localhost:8080/"
        },
        "outputId": "4bbef696-ed38-4c08-a167-36372c3692f6"
      },
      "execution_count": 3,
      "outputs": [
        {
          "output_type": "stream",
          "name": "stdout",
          "text": [
            "Collecting pyngrok\n",
            "  Downloading pyngrok-7.2.4-py3-none-any.whl.metadata (8.7 kB)\n",
            "Requirement already satisfied: PyYAML>=5.1 in /usr/local/lib/python3.11/dist-packages (from pyngrok) (6.0.2)\n",
            "Downloading pyngrok-7.2.4-py3-none-any.whl (23 kB)\n",
            "Installing collected packages: pyngrok\n",
            "Successfully installed pyngrok-7.2.4\n",
            "---------------------------------------\n",
            "02:42:AC:1C:00:0C\n",
            "02:42:AC:1C:00:0C\n",
            "Time taken: 0.00032138824462890625 s\n",
            "---------------------------------------\n"
          ]
        }
      ]
    },
    {
      "cell_type": "code",
      "source": [
        "from flask import Flask, render_template, request\n",
        "from tensorflow.keras.models import load_model\n",
        "from tensorflow.keras.preprocessing.sequence import pad_sequences\n",
        "import numpy as np\n",
        "import pickle\n",
        "from threading import Thread\n",
        "from pyngrok import ngrok\n",
        "\n",
        "app = Flask(__name__)\n",
        "\n",
        "# Load your model and tokenizer (as in the previous app.py)\n",
        "try:\n",
        "    model = load_model('imdb_language_model.h5')\n",
        "    with open('tokenizer.pkl', 'rb') as handle:\n",
        "        tokenizer = pickle.load(handle)\n",
        "    max_sequence_len = model.input_shape[1] + 1  # or 120 +1 = 121 if model.input_shape[1] not available\n",
        "except Exception as e:\n",
        "    print(f\"Error loading model or tokenizer: {e}\")\n",
        "    exit()\n",
        "\n",
        "def generate_text(seed_text, next_words, model, tokenizer, max_len):\n",
        "    \"\"\"Generates text using the language model.\"\"\"\n",
        "    for _ in range(next_words):\n",
        "        token_list = tokenizer.texts_to_sequences([seed_text])[0]\n",
        "        token_list = pad_sequences([token_list], maxlen=max_len-1, padding='pre')\n",
        "        predicted = np.argmax(model.predict(token_list), axis=-1)\n",
        "\n",
        "        output_word = \"\"\n",
        "        for word, index in tokenizer.word_index.items():\n",
        "            if index == predicted:\n",
        "                output_word = word\n",
        "                break\n",
        "        seed_text += \" \" + output_word\n",
        "    return seed_text\n",
        "\n",
        "@app.route('/', methods=['GET', 'POST'])\n",
        "def index():\n",
        "    generated_text = \"\"\n",
        "    if request.method == 'POST':\n",
        "        seed_text = request.form['seed_text']\n",
        "        next_words = int(request.form['next_words'])\n",
        "        generated_text = generate_text(seed_text, next_words, model, tokenizer, max_sequence_len)\n",
        "    return render_template('index.html', generated_text=generated_text)\n",
        "\n",
        "def run_app():\n",
        "    app.run(debug=True, port=5000, host='0.0.0.0')\n",
        "\n",
        "if __name__ == '__main__':\n",
        "    thread = Thread(target=run_app)\n",
        "    thread.start()\n",
        "\n",
        "    # Set up ngrok to tunnel to the Flask app\n",
        "    # **Replace \"YOUR_ACTUAL_AUTHTOKEN\" with your real ngrok authtoken**\n",
        "    ngrok.set_auth_token(\"2vmMopnRYPbJmpS6bNQRq9CYI8s_7xPxUq1weSTTzisRRyNjX\")\n",
        "    # Remove authtoken_from_env=True\n",
        "    ngrok_tunnel = ngrok.connect(addr=\"5000\")\n",
        "    print(\" * Running on http://127.0.0.1:5000/ (Press CTRL+C to quit)\")\n",
        "    print(\"Ngrok tunnel URL:\", ngrok_tunnel.public_url)\n",
        "import time\n",
        "import uuid\n",
        "import os\n",
        "import psutil\n",
        "print(\"---------------------------------------\")\n",
        "# Time taken\n",
        "start_time = time.time()\n",
        "# MAC Address\n",
        "mac = uuid.getnode()\n",
        "mac_address = ':'.join((\"%012X\" % mac)[i:i+2] for i in range(0, 12, 2))\n",
        "print(mac_address)\n",
        "end_time = time.time()\n",
        "time_taken = end_time - start_time\n",
        "# Memory usage\n",
        "process = psutil.Process(os.getpid())\n",
        "memory_usage = process.memory_info().rss / (1024 * 1024)  # in MB\n",
        "# Result\n",
        "print(mac_address)\n",
        "print(f\"Time taken: {time_taken} s\")\n",
        "print(\"---------------------------------------\")"
      ],
      "metadata": {
        "id": "qdMtzecm7ueW",
        "colab": {
          "base_uri": "https://localhost:8080/"
        },
        "outputId": "43980a5d-53ca-47cd-9a8c-b62f426b263c"
      },
      "execution_count": 4,
      "outputs": [
        {
          "output_type": "stream",
          "name": "stderr",
          "text": [
            "WARNING:absl:Compiled the loaded model, but the compiled metrics have yet to be built. `model.compile_metrics` will be empty until you train or evaluate the model.\n"
          ]
        },
        {
          "output_type": "stream",
          "name": "stdout",
          "text": [
            "Error loading model or tokenizer: Sequential model 'sequential' has no defined input shape yet.\n",
            "Downloading ngrok ...\r * Serving Flask app '__main__'\n",
            " * Debug mode: on\n"
          ]
        },
        {
          "output_type": "stream",
          "name": "stderr",
          "text": [
            "INFO:werkzeug:\u001b[31m\u001b[1mWARNING: This is a development server. Do not use it in a production deployment. Use a production WSGI server instead.\u001b[0m\n",
            " * Running on all addresses (0.0.0.0)\n",
            " * Running on http://127.0.0.1:5000\n",
            " * Running on http://172.28.0.12:5000\n",
            "INFO:werkzeug:\u001b[33mPress CTRL+C to quit\u001b[0m\n",
            "Exception in thread Thread-8 (run_app):\n",
            "Traceback (most recent call last):\n",
            "  File \"/usr/lib/python3.11/threading.py\", line 1045, in _bootstrap_inner\n",
            "    self.run()\n",
            "  File \"/usr/lib/python3.11/threading.py\", line 982, in run\n",
            "    self._target(*self._args, **self._kwargs)\n",
            "  File \"<ipython-input-4-aa02e5d1b6e7>\", line 46, in run_app\n",
            "  File \"/usr/local/lib/python3.11/dist-packages/flask/app.py\", line 662, in run\n",
            "    run_simple(t.cast(str, host), port, self, **options)\n",
            "  File \"/usr/local/lib/python3.11/dist-packages/werkzeug/serving.py\", line 1115, in run_simple\n",
            "    run_with_reloader(\n",
            "  File \"/usr/local/lib/python3.11/dist-packages/werkzeug/_reloader.py\", line 452, in run_with_reloader\n",
            "    signal.signal(signal.SIGTERM, lambda *args: sys.exit(0))\n",
            "  File \"/usr/lib/python3.11/signal.py\", line 58, in signal\n",
            "    handler = _signal.signal(_enum_to_int(signalnum), _enum_to_int(handler))\n",
            "              ^^^^^^^^^^^^^^^^^^^^^^^^^^^^^^^^^^^^^^^^^^^^^^^^^^^^^^^^^^^^^^\n",
            "ValueError: signal only works in main thread of the main interpreter\n"
          ]
        },
        {
          "output_type": "stream",
          "name": "stdout",
          "text": [
            " * Running on http://127.0.0.1:5000/ (Press CTRL+C to quit)\n",
            "Ngrok tunnel URL: https://b4d8-34-73-189-100.ngrok-free.app\n",
            "---------------------------------------\n",
            "02:42:AC:1C:00:0C\n",
            "02:42:AC:1C:00:0C\n",
            "Time taken: 0.0003104209899902344 s\n",
            "---------------------------------------\n"
          ]
        }
      ]
    }
  ],
  "metadata": {
    "colab": {
      "provenance": []
    },
    "kernelspec": {
      "display_name": "Python 3",
      "name": "python3"
    },
    "language_info": {
      "name": "python"
    }
  },
  "nbformat": 4,
  "nbformat_minor": 0
}